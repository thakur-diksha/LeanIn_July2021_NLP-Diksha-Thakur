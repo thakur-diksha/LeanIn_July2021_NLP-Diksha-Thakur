{
  "nbformat": 4,
  "nbformat_minor": 0,
  "metadata": {
    "colab": {
      "name": "Diksha_Thakur_Assignment1_Language_Modelling.ipynb",
      "provenance": [],
      "collapsed_sections": []
    },
    "kernelspec": {
      "name": "python3",
      "display_name": "Python 3"
    },
    "language_info": {
      "name": "python"
    }
  },
  "cells": [
    {
      "cell_type": "markdown",
      "metadata": {
        "id": "lCT0Cs_jhigM"
      },
      "source": [
        ""
      ]
    },
    {
      "cell_type": "markdown",
      "metadata": {
        "id": "TjJ_nOriUwkD"
      },
      "source": [
        "# Importing all Important libraries"
      ]
    },
    {
      "cell_type": "code",
      "metadata": {
        "colab": {
          "base_uri": "https://localhost:8080/"
        },
        "id": "mK1FOr3MUyWa",
        "outputId": "8c0031e7-b61e-4d39-9327-7d050f3e1c28"
      },
      "source": [
        "import nltk\n",
        "nltk.download('punkt')"
      ],
      "execution_count": null,
      "outputs": [
        {
          "output_type": "stream",
          "text": [
            "[nltk_data] Downloading package punkt to /root/nltk_data...\n",
            "[nltk_data]   Unzipping tokenizers/punkt.zip.\n"
          ],
          "name": "stdout"
        },
        {
          "output_type": "execute_result",
          "data": {
            "text/plain": [
              "True"
            ]
          },
          "metadata": {
            "tags": []
          },
          "execution_count": 1
        }
      ]
    },
    {
      "cell_type": "code",
      "metadata": {
        "id": "343ENoeoU5iY"
      },
      "source": [
        "import nltk\n",
        "from nltk import word_tokenize\n",
        "from nltk.util import ngrams\n",
        "from collections import Counter"
      ],
      "execution_count": null,
      "outputs": []
    },
    {
      "cell_type": "markdown",
      "metadata": {
        "id": "MF36CK8cU9e9"
      },
      "source": [
        "# Beginning with n-grams"
      ]
    },
    {
      "cell_type": "code",
      "metadata": {
        "id": "Z_90G7QcU-x1"
      },
      "source": [
        "text = \"Hi everyone we can start the assignment by printing basic things\\\n",
        "so that it becomes easy to understand what we actually want to achieve from this\\\n",
        "assignment. Hope you enjoy the practical session of today and if you have any\\\n",
        "doubts you can always reach out to me\"\n",
        "token = nltk.word_tokenize(text)\n",
        "bigrams = ngrams(token,2)\n",
        "trigrams = ngrams(token,3)\n",
        "fourgrams = ngrams(token,4)\n",
        "fivegrams = ngrams(token,5)"
      ],
      "execution_count": null,
      "outputs": []
    },
    {
      "cell_type": "markdown",
      "metadata": {
        "id": "d2gWNHhQVHMQ"
      },
      "source": [
        "# Bigrams"
      ]
    },
    {
      "cell_type": "code",
      "metadata": {
        "colab": {
          "base_uri": "https://localhost:8080/"
        },
        "id": "17JQgN28VIoJ",
        "outputId": "2fb6c383-e105-47de-ecae-2586c0060bc3"
      },
      "source": [
        "print(Counter(bigrams))"
      ],
      "execution_count": null,
      "outputs": [
        {
          "output_type": "stream",
          "text": [
            "Counter({('Hi', 'everyone'): 1, ('everyone', 'we'): 1, ('we', 'can'): 1, ('can', 'start'): 1, ('start', 'the'): 1, ('the', 'assignment'): 1, ('assignment', 'by'): 1, ('by', 'printing'): 1, ('printing', 'basic'): 1, ('basic', 'thingsso'): 1, ('thingsso', 'that'): 1, ('that', 'it'): 1, ('it', 'becomes'): 1, ('becomes', 'easy'): 1, ('easy', 'to'): 1, ('to', 'understand'): 1, ('understand', 'what'): 1, ('what', 'we'): 1, ('we', 'actually'): 1, ('actually', 'want'): 1, ('want', 'to'): 1, ('to', 'achieve'): 1, ('achieve', 'from'): 1, ('from', 'thisassignment'): 1, ('thisassignment', '.'): 1, ('.', 'Hope'): 1, ('Hope', 'you'): 1, ('you', 'enjoy'): 1, ('enjoy', 'the'): 1, ('the', 'practical'): 1, ('practical', 'session'): 1, ('session', 'of'): 1, ('of', 'today'): 1, ('today', 'and'): 1, ('and', 'if'): 1, ('if', 'you'): 1, ('you', 'have'): 1, ('have', 'anydoubts'): 1, ('anydoubts', 'you'): 1, ('you', 'can'): 1, ('can', 'always'): 1, ('always', 'reach'): 1, ('reach', 'out'): 1, ('out', 'to'): 1, ('to', 'me'): 1})\n"
          ],
          "name": "stdout"
        }
      ]
    },
    {
      "cell_type": "markdown",
      "metadata": {
        "id": "76GWgFoUVOJn"
      },
      "source": [
        "# Trigrams"
      ]
    },
    {
      "cell_type": "code",
      "metadata": {
        "colab": {
          "base_uri": "https://localhost:8080/"
        },
        "id": "EGDFqSp3VP9_",
        "outputId": "7661bbb6-8611-4c29-ab50-93fc4d3b9de9"
      },
      "source": [
        "print(Counter(trigrams))"
      ],
      "execution_count": null,
      "outputs": [
        {
          "output_type": "stream",
          "text": [
            "Counter({('Hi', 'everyone', 'we'): 1, ('everyone', 'we', 'can'): 1, ('we', 'can', 'start'): 1, ('can', 'start', 'the'): 1, ('start', 'the', 'assignment'): 1, ('the', 'assignment', 'by'): 1, ('assignment', 'by', 'printing'): 1, ('by', 'printing', 'basic'): 1, ('printing', 'basic', 'thingsso'): 1, ('basic', 'thingsso', 'that'): 1, ('thingsso', 'that', 'it'): 1, ('that', 'it', 'becomes'): 1, ('it', 'becomes', 'easy'): 1, ('becomes', 'easy', 'to'): 1, ('easy', 'to', 'understand'): 1, ('to', 'understand', 'what'): 1, ('understand', 'what', 'we'): 1, ('what', 'we', 'actually'): 1, ('we', 'actually', 'want'): 1, ('actually', 'want', 'to'): 1, ('want', 'to', 'achieve'): 1, ('to', 'achieve', 'from'): 1, ('achieve', 'from', 'thisassignment'): 1, ('from', 'thisassignment', '.'): 1, ('thisassignment', '.', 'Hope'): 1, ('.', 'Hope', 'you'): 1, ('Hope', 'you', 'enjoy'): 1, ('you', 'enjoy', 'the'): 1, ('enjoy', 'the', 'practical'): 1, ('the', 'practical', 'session'): 1, ('practical', 'session', 'of'): 1, ('session', 'of', 'today'): 1, ('of', 'today', 'and'): 1, ('today', 'and', 'if'): 1, ('and', 'if', 'you'): 1, ('if', 'you', 'have'): 1, ('you', 'have', 'anydoubts'): 1, ('have', 'anydoubts', 'you'): 1, ('anydoubts', 'you', 'can'): 1, ('you', 'can', 'always'): 1, ('can', 'always', 'reach'): 1, ('always', 'reach', 'out'): 1, ('reach', 'out', 'to'): 1, ('out', 'to', 'me'): 1})\n"
          ],
          "name": "stdout"
        }
      ]
    },
    {
      "cell_type": "markdown",
      "metadata": {
        "id": "qRh06Qm7VU_2"
      },
      "source": [
        "# Fourgrams"
      ]
    },
    {
      "cell_type": "code",
      "metadata": {
        "colab": {
          "base_uri": "https://localhost:8080/"
        },
        "id": "jd3xu9twVXqX",
        "outputId": "4819af26-30a2-4500-adbb-d2180e6f35cb"
      },
      "source": [
        "print(Counter(fourgrams))"
      ],
      "execution_count": null,
      "outputs": [
        {
          "output_type": "stream",
          "text": [
            "Counter({('Hi', 'everyone', 'we', 'can'): 1, ('everyone', 'we', 'can', 'start'): 1, ('we', 'can', 'start', 'the'): 1, ('can', 'start', 'the', 'assignment'): 1, ('start', 'the', 'assignment', 'by'): 1, ('the', 'assignment', 'by', 'printing'): 1, ('assignment', 'by', 'printing', 'basic'): 1, ('by', 'printing', 'basic', 'thingsso'): 1, ('printing', 'basic', 'thingsso', 'that'): 1, ('basic', 'thingsso', 'that', 'it'): 1, ('thingsso', 'that', 'it', 'becomes'): 1, ('that', 'it', 'becomes', 'easy'): 1, ('it', 'becomes', 'easy', 'to'): 1, ('becomes', 'easy', 'to', 'understand'): 1, ('easy', 'to', 'understand', 'what'): 1, ('to', 'understand', 'what', 'we'): 1, ('understand', 'what', 'we', 'actually'): 1, ('what', 'we', 'actually', 'want'): 1, ('we', 'actually', 'want', 'to'): 1, ('actually', 'want', 'to', 'achieve'): 1, ('want', 'to', 'achieve', 'from'): 1, ('to', 'achieve', 'from', 'thisassignment'): 1, ('achieve', 'from', 'thisassignment', '.'): 1, ('from', 'thisassignment', '.', 'Hope'): 1, ('thisassignment', '.', 'Hope', 'you'): 1, ('.', 'Hope', 'you', 'enjoy'): 1, ('Hope', 'you', 'enjoy', 'the'): 1, ('you', 'enjoy', 'the', 'practical'): 1, ('enjoy', 'the', 'practical', 'session'): 1, ('the', 'practical', 'session', 'of'): 1, ('practical', 'session', 'of', 'today'): 1, ('session', 'of', 'today', 'and'): 1, ('of', 'today', 'and', 'if'): 1, ('today', 'and', 'if', 'you'): 1, ('and', 'if', 'you', 'have'): 1, ('if', 'you', 'have', 'anydoubts'): 1, ('you', 'have', 'anydoubts', 'you'): 1, ('have', 'anydoubts', 'you', 'can'): 1, ('anydoubts', 'you', 'can', 'always'): 1, ('you', 'can', 'always', 'reach'): 1, ('can', 'always', 'reach', 'out'): 1, ('always', 'reach', 'out', 'to'): 1, ('reach', 'out', 'to', 'me'): 1})\n"
          ],
          "name": "stdout"
        }
      ]
    },
    {
      "cell_type": "markdown",
      "metadata": {
        "id": "QvY1cvC5Va7y"
      },
      "source": [
        "# Fivegrams"
      ]
    },
    {
      "cell_type": "code",
      "metadata": {
        "colab": {
          "base_uri": "https://localhost:8080/"
        },
        "id": "uiQPe_MSVd3S",
        "outputId": "a92fb43b-043c-4763-8ff5-2d6959236228"
      },
      "source": [
        "print(Counter(fivegrams))"
      ],
      "execution_count": null,
      "outputs": [
        {
          "output_type": "stream",
          "text": [
            "Counter({('Hi', 'everyone', 'we', 'can', 'start'): 1, ('everyone', 'we', 'can', 'start', 'the'): 1, ('we', 'can', 'start', 'the', 'assignment'): 1, ('can', 'start', 'the', 'assignment', 'by'): 1, ('start', 'the', 'assignment', 'by', 'printing'): 1, ('the', 'assignment', 'by', 'printing', 'basic'): 1, ('assignment', 'by', 'printing', 'basic', 'thingsso'): 1, ('by', 'printing', 'basic', 'thingsso', 'that'): 1, ('printing', 'basic', 'thingsso', 'that', 'it'): 1, ('basic', 'thingsso', 'that', 'it', 'becomes'): 1, ('thingsso', 'that', 'it', 'becomes', 'easy'): 1, ('that', 'it', 'becomes', 'easy', 'to'): 1, ('it', 'becomes', 'easy', 'to', 'understand'): 1, ('becomes', 'easy', 'to', 'understand', 'what'): 1, ('easy', 'to', 'understand', 'what', 'we'): 1, ('to', 'understand', 'what', 'we', 'actually'): 1, ('understand', 'what', 'we', 'actually', 'want'): 1, ('what', 'we', 'actually', 'want', 'to'): 1, ('we', 'actually', 'want', 'to', 'achieve'): 1, ('actually', 'want', 'to', 'achieve', 'from'): 1, ('want', 'to', 'achieve', 'from', 'thisassignment'): 1, ('to', 'achieve', 'from', 'thisassignment', '.'): 1, ('achieve', 'from', 'thisassignment', '.', 'Hope'): 1, ('from', 'thisassignment', '.', 'Hope', 'you'): 1, ('thisassignment', '.', 'Hope', 'you', 'enjoy'): 1, ('.', 'Hope', 'you', 'enjoy', 'the'): 1, ('Hope', 'you', 'enjoy', 'the', 'practical'): 1, ('you', 'enjoy', 'the', 'practical', 'session'): 1, ('enjoy', 'the', 'practical', 'session', 'of'): 1, ('the', 'practical', 'session', 'of', 'today'): 1, ('practical', 'session', 'of', 'today', 'and'): 1, ('session', 'of', 'today', 'and', 'if'): 1, ('of', 'today', 'and', 'if', 'you'): 1, ('today', 'and', 'if', 'you', 'have'): 1, ('and', 'if', 'you', 'have', 'anydoubts'): 1, ('if', 'you', 'have', 'anydoubts', 'you'): 1, ('you', 'have', 'anydoubts', 'you', 'can'): 1, ('have', 'anydoubts', 'you', 'can', 'always'): 1, ('anydoubts', 'you', 'can', 'always', 'reach'): 1, ('you', 'can', 'always', 'reach', 'out'): 1, ('can', 'always', 'reach', 'out', 'to'): 1, ('always', 'reach', 'out', 'to', 'me'): 1})\n"
          ],
          "name": "stdout"
        }
      ]
    },
    {
      "cell_type": "markdown",
      "metadata": {
        "id": "2E7466hWVhES"
      },
      "source": [
        "# Working On Real Movie Review Dataset"
      ]
    },
    {
      "cell_type": "code",
      "metadata": {
        "colab": {
          "base_uri": "https://localhost:8080/",
          "height": 203
        },
        "id": "WBDwv3BiViuM",
        "outputId": "ae788c3a-2957-4e40-b56b-5965b1b6e6cc"
      },
      "source": [
        "import pandas as pd\n",
        "train_data_sent = pd.read_csv('movie_review.csv')\n",
        "train_data_sent.head()"
      ],
      "execution_count": null,
      "outputs": [
        {
          "output_type": "execute_result",
          "data": {
            "text/html": [
              "<div>\n",
              "<style scoped>\n",
              "    .dataframe tbody tr th:only-of-type {\n",
              "        vertical-align: middle;\n",
              "    }\n",
              "\n",
              "    .dataframe tbody tr th {\n",
              "        vertical-align: top;\n",
              "    }\n",
              "\n",
              "    .dataframe thead th {\n",
              "        text-align: right;\n",
              "    }\n",
              "</style>\n",
              "<table border=\"1\" class=\"dataframe\">\n",
              "  <thead>\n",
              "    <tr style=\"text-align: right;\">\n",
              "      <th></th>\n",
              "      <th>fold_id</th>\n",
              "      <th>cv_tag</th>\n",
              "      <th>html_id</th>\n",
              "      <th>sent_id</th>\n",
              "      <th>text</th>\n",
              "      <th>tag</th>\n",
              "    </tr>\n",
              "  </thead>\n",
              "  <tbody>\n",
              "    <tr>\n",
              "      <th>0</th>\n",
              "      <td>0</td>\n",
              "      <td>cv000</td>\n",
              "      <td>29590</td>\n",
              "      <td>0</td>\n",
              "      <td>films adapted from comic books have had plenty...</td>\n",
              "      <td>pos</td>\n",
              "    </tr>\n",
              "    <tr>\n",
              "      <th>1</th>\n",
              "      <td>0</td>\n",
              "      <td>cv000</td>\n",
              "      <td>29590</td>\n",
              "      <td>1</td>\n",
              "      <td>for starters , it was created by alan moore ( ...</td>\n",
              "      <td>pos</td>\n",
              "    </tr>\n",
              "    <tr>\n",
              "      <th>2</th>\n",
              "      <td>0</td>\n",
              "      <td>cv000</td>\n",
              "      <td>29590</td>\n",
              "      <td>2</td>\n",
              "      <td>to say moore and campbell thoroughly researche...</td>\n",
              "      <td>pos</td>\n",
              "    </tr>\n",
              "    <tr>\n",
              "      <th>3</th>\n",
              "      <td>0</td>\n",
              "      <td>cv000</td>\n",
              "      <td>29590</td>\n",
              "      <td>3</td>\n",
              "      <td>the book ( or \" graphic novel , \" if you will ...</td>\n",
              "      <td>pos</td>\n",
              "    </tr>\n",
              "    <tr>\n",
              "      <th>4</th>\n",
              "      <td>0</td>\n",
              "      <td>cv000</td>\n",
              "      <td>29590</td>\n",
              "      <td>4</td>\n",
              "      <td>in other words , don't dismiss this film becau...</td>\n",
              "      <td>pos</td>\n",
              "    </tr>\n",
              "  </tbody>\n",
              "</table>\n",
              "</div>"
            ],
            "text/plain": [
              "   fold_id cv_tag  ...                                               text  tag\n",
              "0        0  cv000  ...  films adapted from comic books have had plenty...  pos\n",
              "1        0  cv000  ...  for starters , it was created by alan moore ( ...  pos\n",
              "2        0  cv000  ...  to say moore and campbell thoroughly researche...  pos\n",
              "3        0  cv000  ...  the book ( or \" graphic novel , \" if you will ...  pos\n",
              "4        0  cv000  ...  in other words , don't dismiss this film becau...  pos\n",
              "\n",
              "[5 rows x 6 columns]"
            ]
          },
          "metadata": {
            "tags": []
          },
          "execution_count": 12
        }
      ]
    },
    {
      "cell_type": "code",
      "metadata": {
        "id": "KRFdn47eZWzT"
      },
      "source": [
        "import pandas as pd\n",
        "import numpy as np\n",
        "import math\n",
        "import matplotlib.pyplot as plt\n",
        "import re\n",
        "import glob\n",
        "import random\n",
        "import seaborn as sns\n",
        "import string "
      ],
      "execution_count": null,
      "outputs": []
    },
    {
      "cell_type": "markdown",
      "metadata": {
        "id": "PUUWd3yOZikj"
      },
      "source": [
        "# Data Preprocessing"
      ]
    },
    {
      "cell_type": "code",
      "metadata": {
        "id": "LfTMn8qJZlgz"
      },
      "source": [
        "train_data_sent['sentence_clean'] = train_data_sent['text'].str.replace('[{}]'.format(string.punctuation), '')\n",
        "train_data_sent['sentence_clean'] = train_data_sent['sentence_clean'].str.lower()\n",
        "#train_data_senti=train_data_sent\n",
        "train_data_sent = train_data_sent.head(1000)\n"
      ],
      "execution_count": null,
      "outputs": []
    },
    {
      "cell_type": "code",
      "metadata": {
        "colab": {
          "base_uri": "https://localhost:8080/",
          "height": 203
        },
        "id": "sm3YAPdtZtDf",
        "outputId": "d64ed21b-2f4a-41de-9f6b-da4015d26128"
      },
      "source": [
        "train_data_sent.head()"
      ],
      "execution_count": null,
      "outputs": [
        {
          "output_type": "execute_result",
          "data": {
            "text/html": [
              "<div>\n",
              "<style scoped>\n",
              "    .dataframe tbody tr th:only-of-type {\n",
              "        vertical-align: middle;\n",
              "    }\n",
              "\n",
              "    .dataframe tbody tr th {\n",
              "        vertical-align: top;\n",
              "    }\n",
              "\n",
              "    .dataframe thead th {\n",
              "        text-align: right;\n",
              "    }\n",
              "</style>\n",
              "<table border=\"1\" class=\"dataframe\">\n",
              "  <thead>\n",
              "    <tr style=\"text-align: right;\">\n",
              "      <th></th>\n",
              "      <th>fold_id</th>\n",
              "      <th>cv_tag</th>\n",
              "      <th>html_id</th>\n",
              "      <th>sent_id</th>\n",
              "      <th>text</th>\n",
              "      <th>tag</th>\n",
              "      <th>sentence_clean</th>\n",
              "    </tr>\n",
              "  </thead>\n",
              "  <tbody>\n",
              "    <tr>\n",
              "      <th>0</th>\n",
              "      <td>0</td>\n",
              "      <td>cv000</td>\n",
              "      <td>29590</td>\n",
              "      <td>0</td>\n",
              "      <td>films adapted from comic books have had plenty...</td>\n",
              "      <td>pos</td>\n",
              "      <td>films adapted from comic books have had plenty...</td>\n",
              "    </tr>\n",
              "    <tr>\n",
              "      <th>1</th>\n",
              "      <td>0</td>\n",
              "      <td>cv000</td>\n",
              "      <td>29590</td>\n",
              "      <td>1</td>\n",
              "      <td>for starters , it was created by alan moore ( ...</td>\n",
              "      <td>pos</td>\n",
              "      <td>for starters  it was created by alan moore  an...</td>\n",
              "    </tr>\n",
              "    <tr>\n",
              "      <th>2</th>\n",
              "      <td>0</td>\n",
              "      <td>cv000</td>\n",
              "      <td>29590</td>\n",
              "      <td>2</td>\n",
              "      <td>to say moore and campbell thoroughly researche...</td>\n",
              "      <td>pos</td>\n",
              "      <td>to say moore and campbell thoroughly researche...</td>\n",
              "    </tr>\n",
              "    <tr>\n",
              "      <th>3</th>\n",
              "      <td>0</td>\n",
              "      <td>cv000</td>\n",
              "      <td>29590</td>\n",
              "      <td>3</td>\n",
              "      <td>the book ( or \" graphic novel , \" if you will ...</td>\n",
              "      <td>pos</td>\n",
              "      <td>the book  or  graphic novel   if you will  is ...</td>\n",
              "    </tr>\n",
              "    <tr>\n",
              "      <th>4</th>\n",
              "      <td>0</td>\n",
              "      <td>cv000</td>\n",
              "      <td>29590</td>\n",
              "      <td>4</td>\n",
              "      <td>in other words , don't dismiss this film becau...</td>\n",
              "      <td>pos</td>\n",
              "      <td>in other words  dont dismiss this film because...</td>\n",
              "    </tr>\n",
              "  </tbody>\n",
              "</table>\n",
              "</div>"
            ],
            "text/plain": [
              "   fold_id cv_tag  ...  tag                                     sentence_clean\n",
              "0        0  cv000  ...  pos  films adapted from comic books have had plenty...\n",
              "1        0  cv000  ...  pos  for starters  it was created by alan moore  an...\n",
              "2        0  cv000  ...  pos  to say moore and campbell thoroughly researche...\n",
              "3        0  cv000  ...  pos  the book  or  graphic novel   if you will  is ...\n",
              "4        0  cv000  ...  pos  in other words  dont dismiss this film because...\n",
              "\n",
              "[5 rows x 7 columns]"
            ]
          },
          "metadata": {
            "tags": []
          },
          "execution_count": 15
        }
      ]
    },
    {
      "cell_type": "markdown",
      "metadata": {
        "id": "sEd98yyTZyVX"
      },
      "source": [
        "# Bigram Implementation"
      ]
    },
    {
      "cell_type": "code",
      "metadata": {
        "id": "8PyJzCyyZz8L"
      },
      "source": [
        "from collections import defaultdict\n",
        "from nltk import bigrams, trigrams\n",
        "from collections import Counter\n",
        "\n",
        "model_2 = defaultdict(lambda: defaultdict(lambda:0))\n",
        "\n",
        "for sentence in train_data_sent['sentence_clean']:\n",
        "  #Split the sentence into bigrams inorder to count the frequencies of the bigrams\n",
        "  for w1, w2 in bigrams(sentence.split(), pad_right=True, pad_left=True):\n",
        "    model_2[(w1)][w2] += 1"
      ],
      "execution_count": null,
      "outputs": []
    },
    {
      "cell_type": "code",
      "metadata": {
        "colab": {
          "base_uri": "https://localhost:8080/"
        },
        "id": "xWi_9gsAZ6mo",
        "outputId": "935acf37-0797-4fdb-9844-23a2df759820"
      },
      "source": [
        "model_2['apart']"
      ],
      "execution_count": null,
      "outputs": [
        {
          "output_type": "execute_result",
          "data": {
            "text/plain": [
              "defaultdict(<function __main__.<lambda>.<locals>.<lambda>>,\n",
              "            {'as': 1, 'in': 1, 'tommys': 1})"
            ]
          },
          "metadata": {
            "tags": []
          },
          "execution_count": 17
        }
      ]
    },
    {
      "cell_type": "code",
      "metadata": {
        "colab": {
          "base_uri": "https://localhost:8080/"
        },
        "id": "QPOhkrJhZ8G1",
        "outputId": "1f4796c0-27e7-49f1-afc7-c44a07ff895c"
      },
      "source": [
        "print(\"The Number of times *america after* bigram has existed is \",model_2['america']['after'])"
      ],
      "execution_count": null,
      "outputs": [
        {
          "output_type": "stream",
          "text": [
            "The Number of times *america after* bigram has existed is  1\n"
          ],
          "name": "stdout"
        }
      ]
    },
    {
      "cell_type": "code",
      "metadata": {
        "id": "SoOPPbE4aBoy"
      },
      "source": [
        "for w1 in model_2:\n",
        "  total_count = float(sum(model_2[w1].values()))\n",
        "  for w2 in model_2[w1]:\n",
        "    model_2[w1][w2] /= total_count"
      ],
      "execution_count": null,
      "outputs": []
    },
    {
      "cell_type": "code",
      "metadata": {
        "colab": {
          "base_uri": "https://localhost:8080/"
        },
        "id": "dd5m7oV9aF57",
        "outputId": "884f75af-739e-4b6b-fad0-369114dcc3a0"
      },
      "source": [
        "model_2[('apart')]"
      ],
      "execution_count": null,
      "outputs": [
        {
          "output_type": "execute_result",
          "data": {
            "text/plain": [
              "defaultdict(<function __main__.<lambda>.<locals>.<lambda>>,\n",
              "            {'as': 0.3333333333333333,\n",
              "             'in': 0.3333333333333333,\n",
              "             'tommys': 0.3333333333333333})"
            ]
          },
          "metadata": {
            "tags": []
          },
          "execution_count": 20
        }
      ]
    },
    {
      "cell_type": "markdown",
      "metadata": {
        "id": "427DOqyWaI5E"
      },
      "source": [
        "# Trigrams Implementation"
      ]
    },
    {
      "cell_type": "code",
      "metadata": {
        "id": "uHPc0pEZaKKO"
      },
      "source": [
        "from collections import defaultdict\n",
        "from nltk import bigrams, trigrams\n",
        "from collections import Counter\n",
        "\n",
        "model_2 = defaultdict(lambda: defaultdict(lambda:0))\n",
        "\n",
        "for sentence in train_data_sent['sentence_clean']:\n",
        "  #Split the sentence into trigrams inorder to count the frequencies of the trigrams\n",
        "  for w1, w2, w3 in trigrams(sentence.split(), pad_right=True, pad_left=True):\n",
        "    model_2[(w1,w2)][w3] += 1"
      ],
      "execution_count": null,
      "outputs": []
    },
    {
      "cell_type": "code",
      "metadata": {
        "colab": {
          "base_uri": "https://localhost:8080/"
        },
        "id": "L1pt3kaVaQdb",
        "outputId": "d0d9418d-817f-437f-ff33-19878070e1c1"
      },
      "source": [
        "model_2['it','was']"
      ],
      "execution_count": null,
      "outputs": [
        {
          "output_type": "execute_result",
          "data": {
            "text/plain": [
              "defaultdict(<function __main__.<lambda>.<locals>.<lambda>>,\n",
              "            {'also': 1,\n",
              "             'based': 1,\n",
              "             'created': 1,\n",
              "             'interesting': 1,\n",
              "             'nothing': 1,\n",
              "             'schreber': 1,\n",
              "             'too': 1,\n",
              "             'unceremoniously': 1,\n",
              "             'very': 1})"
            ]
          },
          "metadata": {
            "tags": []
          },
          "execution_count": 22
        }
      ]
    },
    {
      "cell_type": "code",
      "metadata": {
        "colab": {
          "base_uri": "https://localhost:8080/"
        },
        "id": "piFai1FpaTtR",
        "outputId": "3c466e58-b22b-4caa-f56c-4f87bb30a7ba"
      },
      "source": [
        "model_2['the','book']"
      ],
      "execution_count": null,
      "outputs": [
        {
          "output_type": "execute_result",
          "data": {
            "text/plain": [
              "defaultdict(<function __main__.<lambda>.<locals>.<lambda>>,\n",
              "            {'as': 1, 'of': 1, 'or': 1})"
            ]
          },
          "metadata": {
            "tags": []
          },
          "execution_count": 23
        }
      ]
    },
    {
      "cell_type": "code",
      "metadata": {
        "colab": {
          "base_uri": "https://localhost:8080/"
        },
        "id": "En7dVvSJaXQ5",
        "outputId": "94a9285f-dc3b-44df-fff7-d4fd2132241e"
      },
      "source": [
        "print(\"The Number of times *the book or* trigram has existed is \",model_2['the','book']['or'])"
      ],
      "execution_count": null,
      "outputs": [
        {
          "output_type": "stream",
          "text": [
            "The Number of times *the book or* trigram has existed is  1\n"
          ],
          "name": "stdout"
        }
      ]
    },
    {
      "cell_type": "code",
      "metadata": {
        "id": "15d-jXcFaaYE"
      },
      "source": [
        "for w1,w2 in model_2:\n",
        "  total_count = float(sum(model_2[w1,w2].values()))\n",
        "  for w3 in model_2[w1, w2]:\n",
        "    model_2[w1,w2][w3] /= total_count"
      ],
      "execution_count": null,
      "outputs": []
    },
    {
      "cell_type": "code",
      "metadata": {
        "colab": {
          "base_uri": "https://localhost:8080/"
        },
        "id": "_g-pb8RiafPa",
        "outputId": "769793c6-fe1e-4338-f83d-3c45d12e053f"
      },
      "source": [
        "model_2[('the','book')]"
      ],
      "execution_count": null,
      "outputs": [
        {
          "output_type": "execute_result",
          "data": {
            "text/plain": [
              "defaultdict(<function __main__.<lambda>.<locals>.<lambda>>,\n",
              "            {'as': 0.3333333333333333,\n",
              "             'of': 0.3333333333333333,\n",
              "             'or': 0.3333333333333333})"
            ]
          },
          "metadata": {
            "tags": []
          },
          "execution_count": 26
        }
      ]
    },
    {
      "cell_type": "code",
      "metadata": {
        "colab": {
          "base_uri": "https://localhost:8080/"
        },
        "id": "6kZmIUveaiWU",
        "outputId": "def5185b-354c-4aee-ad0f-37fa8afa9461"
      },
      "source": [
        "model_2[('it','was')]"
      ],
      "execution_count": null,
      "outputs": [
        {
          "output_type": "execute_result",
          "data": {
            "text/plain": [
              "defaultdict(<function __main__.<lambda>.<locals>.<lambda>>,\n",
              "            {'also': 0.1111111111111111,\n",
              "             'based': 0.1111111111111111,\n",
              "             'created': 0.1111111111111111,\n",
              "             'interesting': 0.1111111111111111,\n",
              "             'nothing': 0.1111111111111111,\n",
              "             'schreber': 0.1111111111111111,\n",
              "             'too': 0.1111111111111111,\n",
              "             'unceremoniously': 0.1111111111111111,\n",
              "             'very': 0.1111111111111111})"
            ]
          },
          "metadata": {
            "tags": []
          },
          "execution_count": 27
        }
      ]
    }
  ]
}